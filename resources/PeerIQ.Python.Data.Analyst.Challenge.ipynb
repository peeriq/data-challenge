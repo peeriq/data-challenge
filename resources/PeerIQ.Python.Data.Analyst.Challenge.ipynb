{
 "cells": [
  {
   "cell_type": "markdown",
   "metadata": {},
   "source": [
    "# Data Analyst Challenge\n",
    "\n",
    "1) You will need to answer a series of questions related to each data set in sections `Loan Tape Questions` and `Payment Tape Questions`, and finally combine both data sets for the section listed under `Joint Questions`. This should take you no more than 90 minutes to complete.\n",
    "\n",
    "2) `Python Assessment Question` section - This should take you no more than 30 minutes to complete.\n",
    "\n",
    "For this project we will be exploring sample datasets from [LendingClub.com](www.lendingclub.com). Lending Club connects people who need money (borrowers) with people who have money (investors). \n",
    "\n",
    "Download below data sets to your local machine:\n",
    "* lc_data_tape.csv : \n",
    "    * It includes information about the borrower for each loan (emp_title, income, addr_state, income), loan characteristics (interest rate, term), and  loan status (is the loan delinquent, making payments on time (current), fully paid or charged-off) issued between 2007-2018.\n",
    "    * Each row in the loan tape represents a loan (identified by column `id`) that was originated by LendingClub (often referred to as LC) - https://en.wikipedia.org/wiki/LendingClub\n",
    "\n",
    "\n",
    "* lc_payment_file.csv :\n",
    "    * It includes information about all payments (ie. interest and principal payments, loan grade, etc) made for loans issued between  2007-2017.\n"
   ]
  },
  {
   "cell_type": "markdown",
   "metadata": {},
   "source": [
    "## Loan Tape Questions\n",
    "\n",
    "** Use pandas to read lc_data_tape.csv as a dataframe. **"
   ]
  },
  {
   "cell_type": "code",
   "execution_count": null,
   "metadata": {},
   "outputs": [],
   "source": [
    "# Insert your solution here"
   ]
  },
  {
   "cell_type": "markdown",
   "metadata": {},
   "source": [
    "1) Which Grade has the most loans (`grade` column)?\n"
   ]
  },
  {
   "cell_type": "code",
   "execution_count": null,
   "metadata": {},
   "outputs": [],
   "source": [
    "# Insert your solution here"
   ]
  },
  {
   "cell_type": "markdown",
   "metadata": {},
   "source": [
    "2) During which period were the most loans issued (`issue_d`)? (MMM-YYYY)"
   ]
  },
  {
   "cell_type": "code",
   "execution_count": null,
   "metadata": {},
   "outputs": [],
   "source": [
    "# Insert your solution here"
   ]
  },
  {
   "cell_type": "markdown",
   "metadata": {},
   "source": [
    "3) Rename values in `home_ownership` column that are not \"MORTGAGE\", \"RENT\"  or \"OWN\" to \"OTHER\" and show the record count for each value for `home_ownership` column after renaming. "
   ]
  },
  {
   "cell_type": "code",
   "execution_count": null,
   "metadata": {},
   "outputs": [],
   "source": [
    "# Insert your solution here"
   ]
  },
  {
   "cell_type": "markdown",
   "metadata": {},
   "source": [
    "4) What is the average recovery fee percentage? (`collection_recovery_fee` divided by `recoveries`, where `recoveries` is not null)"
   ]
  },
  {
   "cell_type": "code",
   "execution_count": null,
   "metadata": {},
   "outputs": [],
   "source": [
    "# Insert your solution here"
   ]
  },
  {
   "cell_type": "markdown",
   "metadata": {},
   "source": [
    "5) Check if there are any duplicated loans (`id` is the loan unique identifier)"
   ]
  },
  {
   "cell_type": "code",
   "execution_count": null,
   "metadata": {},
   "outputs": [],
   "source": [
    "# Insert your solution here"
   ]
  },
  {
   "cell_type": "markdown",
   "metadata": {},
   "source": [
    "## Payment Tape Questions\n",
    "\n",
    "** Use pandas to read lc_payment_file.csv as a dataframe. **"
   ]
  },
  {
   "cell_type": "code",
   "execution_count": null,
   "metadata": {},
   "outputs": [],
   "source": [
    "# Insert your solution here"
   ]
  },
  {
   "cell_type": "markdown",
   "metadata": {},
   "source": [
    "1) How many records are in the file?"
   ]
  },
  {
   "cell_type": "code",
   "execution_count": null,
   "metadata": {},
   "outputs": [],
   "source": [
    "# Insert your solution here"
   ]
  },
  {
   "cell_type": "markdown",
   "metadata": {},
   "source": [
    "2) How many distinct loans are in the file? (`LOAN_ID` column identifies a unique loan)"
   ]
  },
  {
   "cell_type": "code",
   "execution_count": null,
   "metadata": {},
   "outputs": [],
   "source": [
    "# Insert your solution here"
   ]
  },
  {
   "cell_type": "markdown",
   "metadata": {},
   "source": [
    "3) What are the possible loan statuses? (`PERIOD_END_LSTAT`)"
   ]
  },
  {
   "cell_type": "code",
   "execution_count": null,
   "metadata": {},
   "outputs": [],
   "source": [
    "# Insert your solution here"
   ]
  },
  {
   "cell_type": "markdown",
   "metadata": {},
   "source": [
    "4) How many loans have payment walk issues? \n",
    "<br> To calculate this, find records where the `PBAL_BEG_PERIOD` -  `PRNCP_PAID` is not equal to the `PBAL_END_PERIOD` field. \n",
    "<br> Use a point .01 tolerance (in other words, if the actual and expected values vary by < .01, assume they are equal). \n",
    "<br> Provide an example of 5 loan id/month combinations (ex: Loan ID 123, March 2016)"
   ]
  },
  {
   "cell_type": "code",
   "execution_count": null,
   "metadata": {},
   "outputs": [],
   "source": [
    "# Insert your solution here"
   ]
  },
  {
   "cell_type": "markdown",
   "metadata": {},
   "source": [
    "## Joint Questions\n"
   ]
  },
  {
   "cell_type": "markdown",
   "metadata": {},
   "source": [
    "1) How many loans are only on the payment file?\n"
   ]
  },
  {
   "cell_type": "code",
   "execution_count": null,
   "metadata": {},
   "outputs": [],
   "source": [
    "# Insert your solution here"
   ]
  },
  {
   "cell_type": "markdown",
   "metadata": {},
   "source": [
    "2) How many loans are in both .csv files?\n"
   ]
  },
  {
   "cell_type": "code",
   "execution_count": null,
   "metadata": {},
   "outputs": [],
   "source": [
    "# Insert your solution here"
   ]
  },
  {
   "cell_type": "markdown",
   "metadata": {},
   "source": [
    "3) What is the weighted average bankcard utilization at month end December 2017 for each loan?\n",
    "<br> To calculate this, multiply the `bc_util` field from the loan tape by the `PBAL_END_PERIOD` field in the payment file (as of Dec 2017 from `MONTH` in the payment file), and divide this by the sum of the `PBAL_END_PERIOD` in the payment file as of 2017-12-31"
   ]
  },
  {
   "cell_type": "code",
   "execution_count": null,
   "metadata": {},
   "outputs": [],
   "source": [
    "# Insert your solution here"
   ]
  },
  {
   "cell_type": "markdown",
   "metadata": {},
   "source": [
    "## Python Assessment Question\n"
   ]
  },
  {
   "cell_type": "markdown",
   "metadata": {},
   "source": [
    "Often times  we  have to extract large number of files for additional transformation and sort them into different directory. This should take no more than 30 minutes to complete.\n",
    "\n",
    "You have a list of daily .csv files dated from Jan 1, 2020 to Jan 31, 2020 in this naming convention:\n",
    "* `lc_transactions_yyyymmdd.csv`\n",
    "* `lc_positions_yyyymmdd.csv`\n",
    "* `lc_accounts_yyyymmdd.csv`\n",
    "\n",
    "Let's assume these files are sourced from a directory you have access to: `/Users/<Your PC Username>/Documents/`\n",
    "\n",
    "1) Write a series of Python codes (or a function - it is entirely up to you!) to store all 3 .csv files in a directory with the corresponding file date (`yyyymmdd`) as the parent folder name. \n",
    "\n",
    "Eg:\n",
    "<br> /Users/20200101/ \n",
    "<br> /Users/20200102/\n",
    "<br> /Users/20200103/\n",
    "\n",
    "You should have 31 folders (eg. 20200101, 20200102, 20200103, ...., 20200131) in the file directory with all 3 .csv files with matching file dates saved in each folder."
   ]
  },
  {
   "cell_type": "code",
   "execution_count": null,
   "metadata": {},
   "outputs": [],
   "source": [
    "# Insert your solution here"
   ]
  },
  {
   "cell_type": "markdown",
   "metadata": {},
   "source": [
    "\n",
    "2) On a scale from 1-5, rank the difficulty level of this challenge. (1 =  too easy, 5 = very difficult)"
   ]
  },
  {
   "cell_type": "code",
   "execution_count": null,
   "metadata": {},
   "outputs": [],
   "source": [
    "# Insert your solution here"
   ]
  }
 ],
 "metadata": {
  "kernelspec": {
   "display_name": "Python 3",
   "language": "python",
   "name": "python3"
  },
  "language_info": {
   "codemirror_mode": {
    "name": "ipython",
    "version": 3
   },
   "file_extension": ".py",
   "mimetype": "text/x-python",
   "name": "python",
   "nbconvert_exporter": "python",
   "pygments_lexer": "ipython3",
   "version": "3.7.3"
  }
 },
 "nbformat": 4,
 "nbformat_minor": 1
}
